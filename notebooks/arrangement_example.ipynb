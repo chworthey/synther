{
 "nbformat": 4,
 "nbformat_minor": 2,
 "metadata": {
  "language_info": {
   "name": "python",
   "codemirror_mode": {
    "name": "ipython",
    "version": 3
   },
   "version": "3.6.2-final"
  },
  "orig_nbformat": 2,
  "file_extension": ".py",
  "mimetype": "text/x-python",
  "name": "python",
  "npconvert_exporter": "python",
  "pygments_lexer": "ipython3",
  "version": 3,
  "kernelspec": {
   "name": "python3",
   "display_name": "Python 3"
  }
 },
 "cells": [
  {
   "cell_type": "code",
   "execution_count": 17,
   "metadata": {},
   "outputs": [],
   "source": [
    "import synther\n",
    "from mysynthermods import arrangement as arr\n",
    "from playsound import playsound"
   ]
  },
  {
   "cell_type": "code",
   "execution_count": 18,
   "metadata": {},
   "outputs": [],
   "source": [
    "def tucka_tucka_stop_stop(note):\n",
    "    ar = arr.Arrangement()\n",
    "    ar.add_note(0, note, 0*1/8, 1/8)\n",
    "    ar.add_note(0, note, 1*1/8, 1/8)\n",
    "    ar.add_note(0, note, 2*1/8, 1/8)\n",
    "    ar.add_note(0, note, 3*1/8, 1/8)\n",
    "    ar.add_note(0, note, 4*1/8, 1/4)\n",
    "    ar.add_note(0, note, 6*1/8, 1/4)\n",
    "    return ar"
   ]
  },
  {
   "cell_type": "code",
   "execution_count": 19,
   "metadata": {},
   "outputs": [],
   "source": [
    "def get_notes():\n",
    "    return 'd4 a5 b5 a5 g4 fs4 e4 d4 a5 g4 fs4 e4 a5 g4 fs4 e4 d4 a5 b5 a5 g4 fs4 e4 d4'.split(' ')"
   ]
  },
  {
   "cell_type": "code",
   "execution_count": 20,
   "metadata": {},
   "outputs": [],
   "source": [
    "proj = synther.gen_project()\n",
    "tuk_buf = proj.queue_gen_buffer()"
   ]
  },
  {
   "cell_type": "code",
   "execution_count": 21,
   "metadata": {},
   "outputs": [],
   "source": [
    "def synth_processor(start_ms, duration_ms, freq_hz):\n",
    "    proj.queue_produce_wave(\n",
    "        tuk_buf, \n",
    "        int(start_ms), \n",
    "        100, \n",
    "        int(duration_ms), \n",
    "        100, \n",
    "        freq_hz, \n",
    "        30000, \n",
    "        synther.WaveType.SAW\n",
    "    )"
   ]
  },
  {
   "cell_type": "code",
   "execution_count": 22,
   "metadata": {},
   "outputs": [],
   "source": [
    "ar = arr.Arrangement()\n",
    "for n in get_notes():\n",
    "    ar.append(tucka_tucka_stop_stop(n))\n",
    "ar.process(120, 4, 4, synth_processor)"
   ]
  },
  {
   "cell_type": "code",
   "execution_count": 23,
   "metadata": {},
   "outputs": [],
   "source": [
    "proj.queue_dump_buffer(tuk_buf, 'arrangement_example_output7.wav')"
   ]
  },
  {
   "cell_type": "code",
   "execution_count": 24,
   "metadata": {},
   "outputs": [
    {
     "name": "stdout",
     "output_type": "stream",
     "text": "Starting build.\nRendering \"arrangement_example_output7.wav\".\nExecuting \"gen_buffer\"\nExecuting \"produce_wave\"\nExecuting \"produce_wave\"\nExecuting \"produce_wave\"\nExecuting \"produce_wave\"\nExecuting \"produce_wave\"\nExecuting \"produce_wave\"\nExecuting \"produce_wave\"\nExecuting \"produce_wave\"\nExecuting \"produce_wave\"\nExecuting \"produce_wave\"\nExecuting \"produce_wave\"\nExecuting \"produce_wave\"\nExecuting \"produce_wave\"\nExecuting \"produce_wave\"\nExecuting \"produce_wave\"\nExecuting \"produce_wave\"\nExecuting \"produce_wave\"\nExecuting \"produce_wave\"\nExecuting \"produce_wave\"\nExecuting \"produce_wave\"\nExecuting \"produce_wave\"\nExecuting \"produce_wave\"\nExecuting \"produce_wave\"\nExecuting \"produce_wave\"\nExecuting \"produce_wave\"\nExecuting \"produce_wave\"\nExecuting \"produce_wave\"\nExecuting \"produce_wave\"\nExecuting \"produce_wave\"\nExecuting \"produce_wave\"\nExecuting \"produce_wave\"\nExecuting \"produce_wave\"\nExecuting \"produce_wave\"\nExecuting \"produce_wave\"\nExecuting \"produce_wave\"\nExecuting \"produce_wave\"\nExecuting \"produce_wave\"\nExecuting \"produce_wave\"\nExecuting \"produce_wave\"\nExecuting \"produce_wave\"\nExecuting \"produce_wave\"\nExecuting \"produce_wave\"\nExecuting \"produce_wave\"\nExecuting \"produce_wave\"\nExecuting \"produce_wave\"\nExecuting \"produce_wave\"\nExecuting \"produce_wave\"\nExecuting \"produce_wave\"\nExecuting \"produce_wave\"\nExecuting \"produce_wave\"\nExecuting \"produce_wave\"\nExecuting \"produce_wave\"\nExecuting \"produce_wave\"\nExecuting \"produce_wave\"\nExecuting \"produce_wave\"\nExecuting \"produce_wave\"\nExecuting \"produce_wave\"\nExecuting \"produce_wave\"\nExecuting \"produce_wave\"\nExecuting \"produce_wave\"\nExecuting \"produce_wave\"\nExecuting \"produce_wave\"\nExecuting \"produce_wave\"\nExecuting \"produce_wave\"\nExecuting \"produce_wave\"\nExecuting \"produce_wave\"\nExecuting \"produce_wave\"\nExecuting \"produce_wave\"\nExecuting \"produce_wave\"\nExecuting \"produce_wave\"\nExecuting \"produce_wave\"\nExecuting \"produce_wave\"\nExecuting \"produce_wave\"\nExecuting \"produce_wave\"\nExecuting \"produce_wave\"\nExecuting \"produce_wave\"\nExecuting \"produce_wave\"\nExecuting \"produce_wave\"\nExecuting \"produce_wave\"\nExecuting \"produce_wave\"\nExecuting \"produce_wave\"\nExecuting \"produce_wave\"\nExecuting \"produce_wave\"\nExecuting \"produce_wave\"\nExecuting \"produce_wave\"\nExecuting \"produce_wave\"\nExecuting \"produce_wave\"\nExecuting \"produce_wave\"\nExecuting \"produce_wave\"\nExecuting \"produce_wave\"\nExecuting \"produce_wave\"\nExecuting \"produce_wave\"\nExecuting \"produce_wave\"\nExecuting \"produce_wave\"\nExecuting \"produce_wave\"\nExecuting \"produce_wave\"\nExecuting \"produce_wave\"\nExecuting \"produce_wave\"\nExecuting \"produce_wave\"\nExecuting \"produce_wave\"\nExecuting \"produce_wave\"\nExecuting \"produce_wave\"\nExecuting \"produce_wave\"\nExecuting \"produce_wave\"\nExecuting \"produce_wave\"\nExecuting \"produce_wave\"\nExecuting \"produce_wave\"\nExecuting \"produce_wave\"\nExecuting \"produce_wave\"\nExecuting \"produce_wave\"\nExecuting \"produce_wave\"\nExecuting \"produce_wave\"\nExecuting \"produce_wave\"\nExecuting \"produce_wave\"\nExecuting \"produce_wave\"\nExecuting \"produce_wave\"\nExecuting \"produce_wave\"\nExecuting \"produce_wave\"\nExecuting \"produce_wave\"\nExecuting \"produce_wave\"\nExecuting \"produce_wave\"\nExecuting \"produce_wave\"\nExecuting \"produce_wave\"\nExecuting \"produce_wave\"\nExecuting \"produce_wave\"\nExecuting \"produce_wave\"\nExecuting \"produce_wave\"\nExecuting \"produce_wave\"\nExecuting \"produce_wave\"\nExecuting \"produce_wave\"\nExecuting \"produce_wave\"\nExecuting \"produce_wave\"\nExecuting \"produce_wave\"\nExecuting \"produce_wave\"\nExecuting \"produce_wave\"\nExecuting \"produce_wave\"\nExecuting \"produce_wave\"\nExecuting \"produce_wave\"\nExecuting \"produce_wave\"\nExecuting \"produce_wave\"\nExecuting \"produce_wave\"\nExecuting \"produce_wave\"\nExecuting \"produce_wave\"\nExecuting \"produce_wave\"\nExecuting \"dump_buffer\"\nFreeing buffer.\nBuild finished.\n"
    }
   ],
   "source": [
    "proj.build()"
   ]
  },
  {
   "cell_type": "code",
   "execution_count": null,
   "metadata": {},
   "outputs": [],
   "source": []
  }
 ]
}